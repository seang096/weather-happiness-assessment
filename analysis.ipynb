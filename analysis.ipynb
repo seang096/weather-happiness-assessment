{
 "cells": [
  {
   "cell_type": "code",
   "execution_count": 15,
   "metadata": {},
   "outputs": [],
   "source": [
    "import pandas as pd\n",
    "from scipy.stats import normaltest\n",
    "import numpy as np\n",
    "import re\n",
    "\n",
    "import urllib.request"
   ]
  },
  {
   "cell_type": "code",
   "execution_count": 9,
   "metadata": {},
   "outputs": [],
   "source": [
    "# utils\n",
    "def clean_data(data):\n",
    "    try:\n",
    "        if type(data) == str:\n",
    "            data.replace('*', '')\n",
    "        return float(data)\n",
    "    \n",
    "    except ValueError:\n",
    "        return float('nan')\n",
    "    \n",
    "    except TypeError:\n",
    "        if data == None:\n",
    "            float('nan')\n",
    "        \n",
    "latitude_pattern = r'lat.*?(-?\\d+\\.?\\d*)'\n",
    "longitude_pattern = r'lon.*?(-?\\d+\\.?\\d*)'\n",
    "\n",
    "def parse_top_metadata(url):\n",
    "\n",
    "    location_string = \"\"\n",
    "\n",
    "    for idx, line in enumerate(urllib.request.urlopen(url)):\n",
    "        line = line.decode('utf-8')\n",
    "\n",
    "        if 'yyyy' in line.lower():\n",
    "            data_start_row = idx\n",
    "            return location_string, data_start_row\n",
    "\n",
    "        if re.search(longitude_pattern, line.lower()) or re.match(latitude_pattern, line.lower()):\n",
    "            location_string += line\n",
    "\n",
    "\n",
    "    \n",
    "def extract_coords(location_string):\n",
    "\n",
    "    lat_match = re.search(latitude_pattern, location_string)\n",
    "    long_match = re.search(longitude_pattern, location_string)\n",
    "    \n",
    "    try:\n",
    "        return (\n",
    "            float(lat_match.group(1)), # even if multiple coords in the string, the first set of coordinates is acceptable for all use cases in this assignment\n",
    "            float(long_match.group(1))\n",
    "        )\n",
    "    except AttributeError:\n",
    "        print('could not extract coordinates from ' + location_string)\n",
    "        return None\n",
    "    "
   ]
  },
  {
   "cell_type": "code",
   "execution_count": 58,
   "metadata": {},
   "outputs": [
    {
     "name": "stderr",
     "output_type": "stream",
     "text": [
      "C:\\Users\\SeanGardner\\AppData\\Local\\Temp\\ipykernel_18532\\786449685.py:34: FutureWarning:\n",
      "\n",
      "The behavior of DataFrame concatenation with empty or all-NA entries is deprecated. In a future version, this will no longer exclude empty or all-NA columns when determining the result dtypes. To retain the old behavior, exclude the relevant entries before the concat operation.\n",
      "\n"
     ]
    }
   ],
   "source": [
    "  \n",
    "# load data \n",
    "\n",
    "headers = ['yyyy','mm','tmax', 'tmin','af','rain','sun']\n",
    "df = pd.DataFrame(columns=headers, dtype='Float64')\n",
    "converters = {header: clean_data for header in headers} # apply the same cleaning function to all columns\n",
    "\n",
    "with open('./stations.txt', 'r') as f:\n",
    "    stations = f.read().splitlines() #import stations into a list\n",
    "\n",
    "for station in stations:\n",
    "\n",
    "    url = f\"http://www.metoffice.gov.uk/pub/data/weather/uk/climate/stationdata/{station}data.txt\"\n",
    "\n",
    "    location_string, data_start_row = parse_above_data(url)\n",
    "    \n",
    "    station_data = pd.read_csv(url,\n",
    "                               sep=r'\\s{2,}',\n",
    "                               converters=converters,\n",
    "                               na_values=['---'],\n",
    "                               header=data_start_row,\n",
    "                               skipinitialspace=True, \n",
    "                               engine='python',\n",
    "                               on_bad_lines=lambda line: line[:len(headers)] #for lines longer than headers, truncate\n",
    "                               )\n",
    "        \n",
    "    station_data = station_data.dropna(how='all') # remove rows with no data (only NaN values)\n",
    "\n",
    "    coords = extract_coords(location_string.lower())\n",
    "    station_data['latitude'] = coords[0]\n",
    "    station_data['longitude'] = coords[1]\n",
    "    \n",
    "    station_data['station'] = station #add station name to all rows for this station\n",
    "\n",
    "    df = pd.concat([df, station_data])"
   ]
  },
  {
   "cell_type": "code",
   "execution_count": 103,
   "metadata": {},
   "outputs": [],
   "source": [
    "def normalise_features(features):\n",
    "    maxs = features.max()\n",
    "    mins = features.min()\n",
    "    normalised_features = (features - mins) / (maxs - mins)  \n",
    "    return normalised_features\n"
   ]
  },
  {
   "cell_type": "code",
   "execution_count": 104,
   "metadata": {},
   "outputs": [],
   "source": [
    "from sklearn.cluster import k_means\n",
    "\n",
    "means_by_station = df.dropna(how='any').groupby(['station']).mean()\n",
    "\n",
    "# normalise so each feature has unit variance\n",
    "normalised_means = normalise_features(means_by_station)\n",
    "\n",
    "centroid, label, inertia = k_means(normalised_means[['mm','tmax','tmin','af','rain','sun']],\n",
    "                                   n_clusters=3,\n",
    "                                   init='k-means++')\n",
    "\n",
    "colours = ['red', 'blue', 'green']\n",
    "\n",
    "clustered_means = means_by_station.assign(cluster=[colours[label] for label in label]) ## convert cluster names to ascii chars \n"
   ]
  },
  {
   "cell_type": "code",
   "execution_count": 105,
   "metadata": {},
   "outputs": [
    {
     "data": {
      "application/vnd.plotly.v1+json": {
       "config": {
        "plotlyServerURL": "https://plot.ly"
       },
       "data": [
        {
         "geo": "geo",
         "hovertemplate": "<b>%{hovertext}</b><br><br>cluster=blue<br>latitude=%{lat}<br>longitude=%{lon}<extra></extra>",
         "hovertext": [
          "aberporth",
          "camborne",
          "cambridge",
          "cardiff",
          "eastbourne",
          "heathrow",
          "hurn",
          "leuchars",
          "lowestoft",
          "manston",
          "oxford",
          "ringway",
          "rossonwye",
          "shawbury",
          "sheffield",
          "southampton",
          "suttonbonington",
          "valley",
          "waddington",
          "whitby",
          "yeovilton"
         ],
         "lat": [
          52.139,
          50.218,
          52.245,
          51.48800000000001,
          50.762,
          51.479,
          50.779,
          56.376999999999995,
          52.483,
          51.346,
          51.761,
          53.356,
          51.911,
          52.794,
          53.381,
          50.898,
          52.833,
          53.252,
          53.175,
          54.481,
          51.006
         ],
         "legendgroup": "blue",
         "lon": [
          -4.57,
          -5.327,
          0.102,
          -3.187,
          0.285,
          -0.449,
          -1.835,
          -2.861,
          1.727,
          1.337,
          -1.262,
          -2.279,
          -2.584,
          -2.663,
          -1.49,
          -1.408,
          -1.25,
          -4.535,
          -0.522,
          -0.624,
          -2.641
         ],
         "marker": {
          "color": "#636efa",
          "symbol": "circle"
         },
         "mode": "markers",
         "name": "blue",
         "showlegend": true,
         "type": "scattergeo"
        },
        {
         "geo": "geo",
         "hovertemplate": "<b>%{hovertext}</b><br><br>cluster=red<br>latitude=%{lat}<br>longitude=%{lon}<extra></extra>",
         "hovertext": [
          "armagh",
          "bradford",
          "cwmystwyth",
          "dunstaffnage",
          "paisley",
          "stornoway",
          "tiree"
         ],
         "lat": [
          54.352,
          53.813,
          52.358,
          56.45100000000001,
          55.846,
          58.214,
          56.5
         ],
         "legendgroup": "red",
         "lon": [
          -6.649,
          -1.772,
          -3.802,
          -5.439,
          -4.43,
          -6.3180000000000005,
          -6.88
         ],
         "marker": {
          "color": "#EF553B",
          "symbol": "circle"
         },
         "mode": "markers",
         "name": "red",
         "showlegend": true,
         "type": "scattergeo"
        },
        {
         "geo": "geo",
         "hovertemplate": "<b>%{hovertext}</b><br><br>cluster=green<br>latitude=%{lat}<br>longitude=%{lon}<extra></extra>",
         "hovertext": [
          "braemar",
          "durham",
          "eskdalemuir",
          "lerwick",
          "nairn",
          "newtonrigg",
          "wickairport"
         ],
         "lat": [
          57.006,
          54.76800000000001,
          55.311,
          60.139,
          57.593,
          54.67,
          58.45400000000001
         ],
         "legendgroup": "green",
         "lon": [
          -3.396,
          -1.5850000000000002,
          -3.206,
          -1.183,
          -3.821,
          -2.786,
          -3.088
         ],
         "marker": {
          "color": "#00cc96",
          "symbol": "circle"
         },
         "mode": "markers",
         "name": "green",
         "showlegend": true,
         "type": "scattergeo"
        }
       ],
       "layout": {
        "geo": {
         "center": {},
         "domain": {
          "x": [
           0,
           1
          ],
          "y": [
           0,
           1
          ]
         }
        },
        "legend": {
         "title": {
          "text": "cluster"
         },
         "tracegroupgap": 0
        },
        "margin": {
         "t": 60
        },
        "template": {
         "data": {
          "bar": [
           {
            "error_x": {
             "color": "#2a3f5f"
            },
            "error_y": {
             "color": "#2a3f5f"
            },
            "marker": {
             "line": {
              "color": "#E5ECF6",
              "width": 0.5
             },
             "pattern": {
              "fillmode": "overlay",
              "size": 10,
              "solidity": 0.2
             }
            },
            "type": "bar"
           }
          ],
          "barpolar": [
           {
            "marker": {
             "line": {
              "color": "#E5ECF6",
              "width": 0.5
             },
             "pattern": {
              "fillmode": "overlay",
              "size": 10,
              "solidity": 0.2
             }
            },
            "type": "barpolar"
           }
          ],
          "carpet": [
           {
            "aaxis": {
             "endlinecolor": "#2a3f5f",
             "gridcolor": "white",
             "linecolor": "white",
             "minorgridcolor": "white",
             "startlinecolor": "#2a3f5f"
            },
            "baxis": {
             "endlinecolor": "#2a3f5f",
             "gridcolor": "white",
             "linecolor": "white",
             "minorgridcolor": "white",
             "startlinecolor": "#2a3f5f"
            },
            "type": "carpet"
           }
          ],
          "choropleth": [
           {
            "colorbar": {
             "outlinewidth": 0,
             "ticks": ""
            },
            "type": "choropleth"
           }
          ],
          "contour": [
           {
            "colorbar": {
             "outlinewidth": 0,
             "ticks": ""
            },
            "colorscale": [
             [
              0,
              "#0d0887"
             ],
             [
              0.1111111111111111,
              "#46039f"
             ],
             [
              0.2222222222222222,
              "#7201a8"
             ],
             [
              0.3333333333333333,
              "#9c179e"
             ],
             [
              0.4444444444444444,
              "#bd3786"
             ],
             [
              0.5555555555555556,
              "#d8576b"
             ],
             [
              0.6666666666666666,
              "#ed7953"
             ],
             [
              0.7777777777777778,
              "#fb9f3a"
             ],
             [
              0.8888888888888888,
              "#fdca26"
             ],
             [
              1,
              "#f0f921"
             ]
            ],
            "type": "contour"
           }
          ],
          "contourcarpet": [
           {
            "colorbar": {
             "outlinewidth": 0,
             "ticks": ""
            },
            "type": "contourcarpet"
           }
          ],
          "heatmap": [
           {
            "colorbar": {
             "outlinewidth": 0,
             "ticks": ""
            },
            "colorscale": [
             [
              0,
              "#0d0887"
             ],
             [
              0.1111111111111111,
              "#46039f"
             ],
             [
              0.2222222222222222,
              "#7201a8"
             ],
             [
              0.3333333333333333,
              "#9c179e"
             ],
             [
              0.4444444444444444,
              "#bd3786"
             ],
             [
              0.5555555555555556,
              "#d8576b"
             ],
             [
              0.6666666666666666,
              "#ed7953"
             ],
             [
              0.7777777777777778,
              "#fb9f3a"
             ],
             [
              0.8888888888888888,
              "#fdca26"
             ],
             [
              1,
              "#f0f921"
             ]
            ],
            "type": "heatmap"
           }
          ],
          "heatmapgl": [
           {
            "colorbar": {
             "outlinewidth": 0,
             "ticks": ""
            },
            "colorscale": [
             [
              0,
              "#0d0887"
             ],
             [
              0.1111111111111111,
              "#46039f"
             ],
             [
              0.2222222222222222,
              "#7201a8"
             ],
             [
              0.3333333333333333,
              "#9c179e"
             ],
             [
              0.4444444444444444,
              "#bd3786"
             ],
             [
              0.5555555555555556,
              "#d8576b"
             ],
             [
              0.6666666666666666,
              "#ed7953"
             ],
             [
              0.7777777777777778,
              "#fb9f3a"
             ],
             [
              0.8888888888888888,
              "#fdca26"
             ],
             [
              1,
              "#f0f921"
             ]
            ],
            "type": "heatmapgl"
           }
          ],
          "histogram": [
           {
            "marker": {
             "pattern": {
              "fillmode": "overlay",
              "size": 10,
              "solidity": 0.2
             }
            },
            "type": "histogram"
           }
          ],
          "histogram2d": [
           {
            "colorbar": {
             "outlinewidth": 0,
             "ticks": ""
            },
            "colorscale": [
             [
              0,
              "#0d0887"
             ],
             [
              0.1111111111111111,
              "#46039f"
             ],
             [
              0.2222222222222222,
              "#7201a8"
             ],
             [
              0.3333333333333333,
              "#9c179e"
             ],
             [
              0.4444444444444444,
              "#bd3786"
             ],
             [
              0.5555555555555556,
              "#d8576b"
             ],
             [
              0.6666666666666666,
              "#ed7953"
             ],
             [
              0.7777777777777778,
              "#fb9f3a"
             ],
             [
              0.8888888888888888,
              "#fdca26"
             ],
             [
              1,
              "#f0f921"
             ]
            ],
            "type": "histogram2d"
           }
          ],
          "histogram2dcontour": [
           {
            "colorbar": {
             "outlinewidth": 0,
             "ticks": ""
            },
            "colorscale": [
             [
              0,
              "#0d0887"
             ],
             [
              0.1111111111111111,
              "#46039f"
             ],
             [
              0.2222222222222222,
              "#7201a8"
             ],
             [
              0.3333333333333333,
              "#9c179e"
             ],
             [
              0.4444444444444444,
              "#bd3786"
             ],
             [
              0.5555555555555556,
              "#d8576b"
             ],
             [
              0.6666666666666666,
              "#ed7953"
             ],
             [
              0.7777777777777778,
              "#fb9f3a"
             ],
             [
              0.8888888888888888,
              "#fdca26"
             ],
             [
              1,
              "#f0f921"
             ]
            ],
            "type": "histogram2dcontour"
           }
          ],
          "mesh3d": [
           {
            "colorbar": {
             "outlinewidth": 0,
             "ticks": ""
            },
            "type": "mesh3d"
           }
          ],
          "parcoords": [
           {
            "line": {
             "colorbar": {
              "outlinewidth": 0,
              "ticks": ""
             }
            },
            "type": "parcoords"
           }
          ],
          "pie": [
           {
            "automargin": true,
            "type": "pie"
           }
          ],
          "scatter": [
           {
            "fillpattern": {
             "fillmode": "overlay",
             "size": 10,
             "solidity": 0.2
            },
            "type": "scatter"
           }
          ],
          "scatter3d": [
           {
            "line": {
             "colorbar": {
              "outlinewidth": 0,
              "ticks": ""
             }
            },
            "marker": {
             "colorbar": {
              "outlinewidth": 0,
              "ticks": ""
             }
            },
            "type": "scatter3d"
           }
          ],
          "scattercarpet": [
           {
            "marker": {
             "colorbar": {
              "outlinewidth": 0,
              "ticks": ""
             }
            },
            "type": "scattercarpet"
           }
          ],
          "scattergeo": [
           {
            "marker": {
             "colorbar": {
              "outlinewidth": 0,
              "ticks": ""
             }
            },
            "type": "scattergeo"
           }
          ],
          "scattergl": [
           {
            "marker": {
             "colorbar": {
              "outlinewidth": 0,
              "ticks": ""
             }
            },
            "type": "scattergl"
           }
          ],
          "scattermapbox": [
           {
            "marker": {
             "colorbar": {
              "outlinewidth": 0,
              "ticks": ""
             }
            },
            "type": "scattermapbox"
           }
          ],
          "scatterpolar": [
           {
            "marker": {
             "colorbar": {
              "outlinewidth": 0,
              "ticks": ""
             }
            },
            "type": "scatterpolar"
           }
          ],
          "scatterpolargl": [
           {
            "marker": {
             "colorbar": {
              "outlinewidth": 0,
              "ticks": ""
             }
            },
            "type": "scatterpolargl"
           }
          ],
          "scatterternary": [
           {
            "marker": {
             "colorbar": {
              "outlinewidth": 0,
              "ticks": ""
             }
            },
            "type": "scatterternary"
           }
          ],
          "surface": [
           {
            "colorbar": {
             "outlinewidth": 0,
             "ticks": ""
            },
            "colorscale": [
             [
              0,
              "#0d0887"
             ],
             [
              0.1111111111111111,
              "#46039f"
             ],
             [
              0.2222222222222222,
              "#7201a8"
             ],
             [
              0.3333333333333333,
              "#9c179e"
             ],
             [
              0.4444444444444444,
              "#bd3786"
             ],
             [
              0.5555555555555556,
              "#d8576b"
             ],
             [
              0.6666666666666666,
              "#ed7953"
             ],
             [
              0.7777777777777778,
              "#fb9f3a"
             ],
             [
              0.8888888888888888,
              "#fdca26"
             ],
             [
              1,
              "#f0f921"
             ]
            ],
            "type": "surface"
           }
          ],
          "table": [
           {
            "cells": {
             "fill": {
              "color": "#EBF0F8"
             },
             "line": {
              "color": "white"
             }
            },
            "header": {
             "fill": {
              "color": "#C8D4E3"
             },
             "line": {
              "color": "white"
             }
            },
            "type": "table"
           }
          ]
         },
         "layout": {
          "annotationdefaults": {
           "arrowcolor": "#2a3f5f",
           "arrowhead": 0,
           "arrowwidth": 1
          },
          "autotypenumbers": "strict",
          "coloraxis": {
           "colorbar": {
            "outlinewidth": 0,
            "ticks": ""
           }
          },
          "colorscale": {
           "diverging": [
            [
             0,
             "#8e0152"
            ],
            [
             0.1,
             "#c51b7d"
            ],
            [
             0.2,
             "#de77ae"
            ],
            [
             0.3,
             "#f1b6da"
            ],
            [
             0.4,
             "#fde0ef"
            ],
            [
             0.5,
             "#f7f7f7"
            ],
            [
             0.6,
             "#e6f5d0"
            ],
            [
             0.7,
             "#b8e186"
            ],
            [
             0.8,
             "#7fbc41"
            ],
            [
             0.9,
             "#4d9221"
            ],
            [
             1,
             "#276419"
            ]
           ],
           "sequential": [
            [
             0,
             "#0d0887"
            ],
            [
             0.1111111111111111,
             "#46039f"
            ],
            [
             0.2222222222222222,
             "#7201a8"
            ],
            [
             0.3333333333333333,
             "#9c179e"
            ],
            [
             0.4444444444444444,
             "#bd3786"
            ],
            [
             0.5555555555555556,
             "#d8576b"
            ],
            [
             0.6666666666666666,
             "#ed7953"
            ],
            [
             0.7777777777777778,
             "#fb9f3a"
            ],
            [
             0.8888888888888888,
             "#fdca26"
            ],
            [
             1,
             "#f0f921"
            ]
           ],
           "sequentialminus": [
            [
             0,
             "#0d0887"
            ],
            [
             0.1111111111111111,
             "#46039f"
            ],
            [
             0.2222222222222222,
             "#7201a8"
            ],
            [
             0.3333333333333333,
             "#9c179e"
            ],
            [
             0.4444444444444444,
             "#bd3786"
            ],
            [
             0.5555555555555556,
             "#d8576b"
            ],
            [
             0.6666666666666666,
             "#ed7953"
            ],
            [
             0.7777777777777778,
             "#fb9f3a"
            ],
            [
             0.8888888888888888,
             "#fdca26"
            ],
            [
             1,
             "#f0f921"
            ]
           ]
          },
          "colorway": [
           "#636efa",
           "#EF553B",
           "#00cc96",
           "#ab63fa",
           "#FFA15A",
           "#19d3f3",
           "#FF6692",
           "#B6E880",
           "#FF97FF",
           "#FECB52"
          ],
          "font": {
           "color": "#2a3f5f"
          },
          "geo": {
           "bgcolor": "white",
           "lakecolor": "white",
           "landcolor": "#E5ECF6",
           "showlakes": true,
           "showland": true,
           "subunitcolor": "white"
          },
          "hoverlabel": {
           "align": "left"
          },
          "hovermode": "closest",
          "mapbox": {
           "style": "light"
          },
          "paper_bgcolor": "white",
          "plot_bgcolor": "#E5ECF6",
          "polar": {
           "angularaxis": {
            "gridcolor": "white",
            "linecolor": "white",
            "ticks": ""
           },
           "bgcolor": "#E5ECF6",
           "radialaxis": {
            "gridcolor": "white",
            "linecolor": "white",
            "ticks": ""
           }
          },
          "scene": {
           "xaxis": {
            "backgroundcolor": "#E5ECF6",
            "gridcolor": "white",
            "gridwidth": 2,
            "linecolor": "white",
            "showbackground": true,
            "ticks": "",
            "zerolinecolor": "white"
           },
           "yaxis": {
            "backgroundcolor": "#E5ECF6",
            "gridcolor": "white",
            "gridwidth": 2,
            "linecolor": "white",
            "showbackground": true,
            "ticks": "",
            "zerolinecolor": "white"
           },
           "zaxis": {
            "backgroundcolor": "#E5ECF6",
            "gridcolor": "white",
            "gridwidth": 2,
            "linecolor": "white",
            "showbackground": true,
            "ticks": "",
            "zerolinecolor": "white"
           }
          },
          "shapedefaults": {
           "line": {
            "color": "#2a3f5f"
           }
          },
          "ternary": {
           "aaxis": {
            "gridcolor": "white",
            "linecolor": "white",
            "ticks": ""
           },
           "baxis": {
            "gridcolor": "white",
            "linecolor": "white",
            "ticks": ""
           },
           "bgcolor": "#E5ECF6",
           "caxis": {
            "gridcolor": "white",
            "linecolor": "white",
            "ticks": ""
           }
          },
          "title": {
           "x": 0.05
          },
          "xaxis": {
           "automargin": true,
           "gridcolor": "white",
           "linecolor": "white",
           "ticks": "",
           "title": {
            "standoff": 15
           },
           "zerolinecolor": "white",
           "zerolinewidth": 2
          },
          "yaxis": {
           "automargin": true,
           "gridcolor": "white",
           "linecolor": "white",
           "ticks": "",
           "title": {
            "standoff": 15
           },
           "zerolinecolor": "white",
           "zerolinewidth": 2
          }
         }
        }
       }
      }
     },
     "metadata": {},
     "output_type": "display_data"
    }
   ],
   "source": [
    "import plotly.express as px\n",
    "\n",
    "fig = px.scatter_geo(clustered_means,\n",
    "                     lat='latitude',\n",
    "                     lon='longitude',\n",
    "                     color='cluster',\n",
    "                     hover_name=means_by_station.reset_index()['station']\n",
    "                     )\n",
    "\n",
    "fig.show()"
   ]
  },
  {
   "cell_type": "code",
   "execution_count": 78,
   "metadata": {},
   "outputs": [
    {
     "data": {
      "text/html": [
       "<div>\n",
       "<style scoped>\n",
       "    .dataframe tbody tr th:only-of-type {\n",
       "        vertical-align: middle;\n",
       "    }\n",
       "\n",
       "    .dataframe tbody tr th {\n",
       "        vertical-align: top;\n",
       "    }\n",
       "\n",
       "    .dataframe thead th {\n",
       "        text-align: right;\n",
       "    }\n",
       "</style>\n",
       "<table border=\"1\" class=\"dataframe\">\n",
       "  <thead>\n",
       "    <tr style=\"text-align: right;\">\n",
       "      <th></th>\n",
       "      <th>yyyy</th>\n",
       "      <th>mm</th>\n",
       "      <th>tmax</th>\n",
       "      <th>tmin</th>\n",
       "      <th>af</th>\n",
       "      <th>rain</th>\n",
       "      <th>sun</th>\n",
       "      <th>latitude</th>\n",
       "      <th>longitude</th>\n",
       "    </tr>\n",
       "    <tr>\n",
       "      <th>cluster</th>\n",
       "      <th></th>\n",
       "      <th></th>\n",
       "      <th></th>\n",
       "      <th></th>\n",
       "      <th></th>\n",
       "      <th></th>\n",
       "      <th></th>\n",
       "      <th></th>\n",
       "      <th></th>\n",
       "    </tr>\n",
       "  </thead>\n",
       "  <tbody>\n",
       "    <tr>\n",
       "      <th>blue</th>\n",
       "      <td>1971.392548</td>\n",
       "      <td>6.483705</td>\n",
       "      <td>12.246341</td>\n",
       "      <td>5.490268</td>\n",
       "      <td>3.836495</td>\n",
       "      <td>69.789397</td>\n",
       "      <td>110.299761</td>\n",
       "      <td>55.210786</td>\n",
       "      <td>-3.419429</td>\n",
       "    </tr>\n",
       "    <tr>\n",
       "      <th>green</th>\n",
       "      <td>1981.909613</td>\n",
       "      <td>6.493088</td>\n",
       "      <td>10.958755</td>\n",
       "      <td>4.496016</td>\n",
       "      <td>5.306795</td>\n",
       "      <td>120.195603</td>\n",
       "      <td>97.479215</td>\n",
       "      <td>56.253000</td>\n",
       "      <td>-3.405200</td>\n",
       "    </tr>\n",
       "    <tr>\n",
       "      <th>red</th>\n",
       "      <td>1981.080279</td>\n",
       "      <td>6.475660</td>\n",
       "      <td>13.803169</td>\n",
       "      <td>6.812670</td>\n",
       "      <td>2.877165</td>\n",
       "      <td>62.695898</td>\n",
       "      <td>133.859005</td>\n",
       "      <td>51.838938</td>\n",
       "      <td>-1.593313</td>\n",
       "    </tr>\n",
       "  </tbody>\n",
       "</table>\n",
       "</div>"
      ],
      "text/plain": [
       "                yyyy        mm       tmax      tmin        af        rain  \\\n",
       "cluster                                                                     \n",
       "blue     1971.392548  6.483705  12.246341  5.490268  3.836495   69.789397   \n",
       "green    1981.909613  6.493088  10.958755  4.496016  5.306795  120.195603   \n",
       "red      1981.080279  6.475660  13.803169  6.812670  2.877165   62.695898   \n",
       "\n",
       "                sun   latitude  longitude  \n",
       "cluster                                    \n",
       "blue     110.299761  55.210786  -3.419429  \n",
       "green     97.479215  56.253000  -3.405200  \n",
       "red      133.859005  51.838938  -1.593313  "
      ]
     },
     "execution_count": 78,
     "metadata": {},
     "output_type": "execute_result"
    }
   ],
   "source": [
    "# Investigate the third cluster\n",
    "\n",
    "means_by_cluster = clustered_means.groupby('cluster').mean()\n",
    "\n",
    "means_by_cluster"
   ]
  },
  {
   "cell_type": "code",
   "execution_count": 128,
   "metadata": {},
   "outputs": [],
   "source": [
    "## Question B.2\n",
    "\n",
    "uk_latitude_cutoffs = np.linspace(49.9, 60.9, 4)\n",
    "\n",
    "third_labels = pd.cut(means_by_station['latitude'], \n",
    "                         bins=uk_latitude_cutoffs, \n",
    "                         labels=['Bottom', 'Middle', 'Top'], \n",
    "                         include_lowest=True)\n",
    "\n",
    "test_features = normalised_means[-5:]\n",
    "training_features = normalised_means[:-5]\n",
    "\n",
    "test_labels = third_labels[-5:]\n",
    "training_labels = third_labels[:-5]"
   ]
  },
  {
   "cell_type": "code",
   "execution_count": 161,
   "metadata": {},
   "outputs": [],
   "source": [
    "from sklearn.neighbors import KNeighborsClassifier\n",
    "\n",
    "classifier = KNeighborsClassifier(n_neighbors=5)\n",
    "\n",
    "classifier.fit(training_features, means_by_station['uk_region'][:-5])\n",
    "\n",
    "predictions = classifier.predict(test_features)"
   ]
  },
  {
   "cell_type": "code",
   "execution_count": 163,
   "metadata": {},
   "outputs": [
    {
     "name": "stdout",
     "output_type": "stream",
     "text": [
      "80%\n"
     ]
    },
    {
     "data": {
      "text/html": [
       "<div>\n",
       "<style scoped>\n",
       "    .dataframe tbody tr th:only-of-type {\n",
       "        vertical-align: middle;\n",
       "    }\n",
       "\n",
       "    .dataframe tbody tr th {\n",
       "        vertical-align: top;\n",
       "    }\n",
       "\n",
       "    .dataframe thead th {\n",
       "        text-align: right;\n",
       "    }\n",
       "</style>\n",
       "<table border=\"1\" class=\"dataframe\">\n",
       "  <thead>\n",
       "    <tr style=\"text-align: right;\">\n",
       "      <th></th>\n",
       "      <th>yyyy</th>\n",
       "      <th>mm</th>\n",
       "      <th>tmax</th>\n",
       "      <th>tmin</th>\n",
       "      <th>af</th>\n",
       "      <th>rain</th>\n",
       "      <th>sun</th>\n",
       "      <th>latitude</th>\n",
       "      <th>longitude</th>\n",
       "      <th>uk_region</th>\n",
       "      <th>prediction</th>\n",
       "    </tr>\n",
       "    <tr>\n",
       "      <th>station</th>\n",
       "      <th></th>\n",
       "      <th></th>\n",
       "      <th></th>\n",
       "      <th></th>\n",
       "      <th></th>\n",
       "      <th></th>\n",
       "      <th></th>\n",
       "      <th></th>\n",
       "      <th></th>\n",
       "      <th></th>\n",
       "      <th></th>\n",
       "    </tr>\n",
       "  </thead>\n",
       "  <tbody>\n",
       "    <tr>\n",
       "      <th>valley</th>\n",
       "      <td>1965.904706</td>\n",
       "      <td>6.495294</td>\n",
       "      <td>12.903765</td>\n",
       "      <td>7.374353</td>\n",
       "      <td>1.622353</td>\n",
       "      <td>70.843882</td>\n",
       "      <td>134.134235</td>\n",
       "      <td>53.252</td>\n",
       "      <td>-4.535</td>\n",
       "      <td>Bottom</td>\n",
       "      <td>Bottom</td>\n",
       "    </tr>\n",
       "    <tr>\n",
       "      <th>waddington</th>\n",
       "      <td>1977.668571</td>\n",
       "      <td>6.477143</td>\n",
       "      <td>13.059429</td>\n",
       "      <td>5.788857</td>\n",
       "      <td>3.864286</td>\n",
       "      <td>50.324286</td>\n",
       "      <td>127.784714</td>\n",
       "      <td>53.175</td>\n",
       "      <td>-0.522</td>\n",
       "      <td>Bottom</td>\n",
       "      <td>Bottom</td>\n",
       "    </tr>\n",
       "    <tr>\n",
       "      <th>whitby</th>\n",
       "      <td>2011.653846</td>\n",
       "      <td>6.419580</td>\n",
       "      <td>13.514685</td>\n",
       "      <td>6.700350</td>\n",
       "      <td>2.381119</td>\n",
       "      <td>58.254895</td>\n",
       "      <td>140.484266</td>\n",
       "      <td>54.481</td>\n",
       "      <td>-0.624</td>\n",
       "      <td>Middle</td>\n",
       "      <td>Bottom</td>\n",
       "    </tr>\n",
       "    <tr>\n",
       "      <th>wickairport</th>\n",
       "      <td>1969.148789</td>\n",
       "      <td>6.520761</td>\n",
       "      <td>10.509343</td>\n",
       "      <td>4.852249</td>\n",
       "      <td>3.854671</td>\n",
       "      <td>65.838235</td>\n",
       "      <td>104.285813</td>\n",
       "      <td>58.454</td>\n",
       "      <td>-3.088</td>\n",
       "      <td>Top</td>\n",
       "      <td>Top</td>\n",
       "    </tr>\n",
       "    <tr>\n",
       "      <th>yeovilton</th>\n",
       "      <td>1993.131915</td>\n",
       "      <td>6.485106</td>\n",
       "      <td>14.457872</td>\n",
       "      <td>6.120000</td>\n",
       "      <td>4.327660</td>\n",
       "      <td>59.970638</td>\n",
       "      <td>128.466383</td>\n",
       "      <td>51.006</td>\n",
       "      <td>-2.641</td>\n",
       "      <td>Bottom</td>\n",
       "      <td>Bottom</td>\n",
       "    </tr>\n",
       "  </tbody>\n",
       "</table>\n",
       "</div>"
      ],
      "text/plain": [
       "                    yyyy        mm       tmax      tmin        af       rain  \\\n",
       "station                                                                        \n",
       "valley       1965.904706  6.495294  12.903765  7.374353  1.622353  70.843882   \n",
       "waddington   1977.668571  6.477143  13.059429  5.788857  3.864286  50.324286   \n",
       "whitby       2011.653846  6.419580  13.514685  6.700350  2.381119  58.254895   \n",
       "wickairport  1969.148789  6.520761  10.509343  4.852249  3.854671  65.838235   \n",
       "yeovilton    1993.131915  6.485106  14.457872  6.120000  4.327660  59.970638   \n",
       "\n",
       "                    sun  latitude  longitude uk_region prediction  \n",
       "station                                                            \n",
       "valley       134.134235    53.252     -4.535    Bottom     Bottom  \n",
       "waddington   127.784714    53.175     -0.522    Bottom     Bottom  \n",
       "whitby       140.484266    54.481     -0.624    Middle     Bottom  \n",
       "wickairport  104.285813    58.454     -3.088       Top        Top  \n",
       "yeovilton    128.466383    51.006     -2.641    Bottom     Bottom  "
      ]
     },
     "execution_count": 163,
     "metadata": {},
     "output_type": "execute_result"
    }
   ],
   "source": [
    "#evaluate classification performance\n",
    "\n",
    "from sklearn.metrics import accuracy_score\n",
    "\n",
    "accuracy = accuracy_score(test_labels, predictions)\n",
    "\n",
    "print(f\"{int(accuracy*100)}%\")\n",
    "\n",
    "predictions_series = pd.Series(predictions, index=test_labels.index, name=\"prediction\")\n",
    "test_labels_comparison = pd.concat([means_by_station[-5:], predictions_series],\n",
    "                                   axis=1,\n",
    "                                   )\n",
    "\n",
    "test_labels_comparison"
   ]
  }
 ],
 "metadata": {
  "kernelspec": {
   "display_name": "Python 3",
   "language": "python",
   "name": "python3"
  },
  "language_info": {
   "codemirror_mode": {
    "name": "ipython",
    "version": 3
   },
   "file_extension": ".py",
   "mimetype": "text/x-python",
   "name": "python",
   "nbconvert_exporter": "python",
   "pygments_lexer": "ipython3",
   "version": "3.12.3"
  }
 },
 "nbformat": 4,
 "nbformat_minor": 2
}
