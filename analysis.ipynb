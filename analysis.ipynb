{
 "cells": [
  {
   "cell_type": "code",
   "execution_count": 1,
   "metadata": {},
   "outputs": [],
   "source": [
    "import pandas as pd\n",
    "import csv\n",
    "import numpy as np\n",
    "import re\n",
    "\n",
    "import urllib.request"
   ]
  },
  {
   "cell_type": "code",
   "execution_count": 17,
   "metadata": {},
   "outputs": [
    {
     "name": "stderr",
     "output_type": "stream",
     "text": [
      "C:\\Users\\SeanGardner\\AppData\\Local\\Temp\\ipykernel_26556\\3909193504.py:75: FutureWarning:\n",
      "\n",
      "The behavior of DataFrame concatenation with empty or all-NA entries is deprecated. In a future version, this will no longer exclude empty or all-NA columns when determining the result dtypes. To retain the old behavior, exclude the relevant entries before the concat operation.\n",
      "\n"
     ]
    },
    {
     "name": "stdout",
     "output_type": "stream",
     "text": [
      "       yyyy   mm  tmax  tmin   af   rain  sun  latitude  longitude    station\n",
      "1    1941.0  1.0   NaN   NaN  NaN   74.7  NaN    52.139     -4.570  aberporth\n",
      "2    1941.0  2.0   NaN   NaN  NaN   69.1  NaN    52.139     -4.570  aberporth\n",
      "3    1941.0  3.0   NaN   NaN  NaN   76.2  NaN    52.139     -4.570  aberporth\n",
      "4    1941.0  4.0   NaN   NaN  NaN   33.7  NaN    52.139     -4.570  aberporth\n",
      "5    1941.0  5.0   NaN   NaN  NaN   51.3  NaN    52.139     -4.570  aberporth\n",
      "..      ...  ...   ...   ...  ...    ...  ...       ...        ...        ...\n",
      "714  2024.0  2.0  11.8   5.6  3.0  111.8  NaN    51.006     -2.641  yeovilton\n",
      "715  2024.0  3.0  12.3   5.0  3.0   86.6  NaN    51.006     -2.641  yeovilton\n",
      "716  2024.0  4.0  14.0   6.5  0.0   50.4  NaN    51.006     -2.641  yeovilton\n",
      "717  2024.0  5.0  18.4   8.9  0.0  136.2  NaN    51.006     -2.641  yeovilton\n",
      "718  2024.0  6.0  19.7   8.9  0.0   13.0  NaN    51.006     -2.641  yeovilton\n",
      "\n",
      "[39399 rows x 10 columns]\n"
     ]
    }
   ],
   "source": [
    "## load all station data into one dataframe\n",
    "\n",
    "# utils\n",
    "def clean_data(data):\n",
    "    try:\n",
    "        if type(data) == str:\n",
    "            data.replace('*', '')\n",
    "        return float(data)\n",
    "    \n",
    "    except ValueError:\n",
    "        return float('nan')\n",
    "    \n",
    "    except TypeError:\n",
    "        if data == None:\n",
    "            float('nan')\n",
    "        \n",
    "latitude_pattern = r'lat.*?(-?\\d+\\.?\\d*)'\n",
    "longitude_pattern = r'lon.*?(-?\\d+\\.?\\d*)'\n",
    "    \n",
    "def extract_coords(location_string):\n",
    "\n",
    "    lat_match = re.search(latitude_pattern, location_string)\n",
    "    long_match = re.search(longitude_pattern, location_string)\n",
    "    \n",
    "    try:\n",
    "        return (\n",
    "            float(lat_match.group(1)), # even if multiple coords in the string, the first set of coordinates is acceptable for all use cases in this assignment\n",
    "            float(long_match.group(1))\n",
    "        )\n",
    "    except AttributeError:\n",
    "        print('could not extract coordinates from ' + location_string)\n",
    "        return None\n",
    "    \n",
    "# load data \n",
    "\n",
    "headers = ['yyyy','mm','tmax', 'tmin','af','rain','sun']\n",
    "df = pd.DataFrame(columns=headers, dtype='Float64')\n",
    "converters = {header: clean_data for header in headers} # apply the same cleaning function to all columns\n",
    "\n",
    "with open('./stations.txt', 'r') as f:\n",
    "    stations = f.read().splitlines() #import stations into a list\n",
    "\n",
    "for station in stations:\n",
    "    url = f\"http://www.metoffice.gov.uk/pub/data/weather/uk/climate/stationdata/{station}data.txt\"\n",
    "    location_string = \"\"\n",
    "\n",
    "    for idx, line in enumerate(urllib.request.urlopen(url)):\n",
    "        line = line.decode('utf-8')\n",
    "\n",
    "        if re.search(longitude_pattern, line.lower()) or re.match(latitude_pattern, line.lower()):\n",
    "            location_string += line\n",
    "\n",
    "        if 'yyyy' in line.lower():\n",
    "            data_start_row = idx\n",
    "            break\n",
    "    \n",
    "    station_data = pd.read_csv(url,\n",
    "                               sep=r'\\s{2,}',\n",
    "                               converters=converters,\n",
    "                               na_values=['---'],\n",
    "                               header=data_start_row,\n",
    "                               skipinitialspace=True, \n",
    "                               engine='python',\n",
    "                               on_bad_lines=lambda line: line[:len(headers)] #for lines longer than headers, truncate\n",
    "                               )\n",
    "        \n",
    "    station_data = station_data.dropna(how='all') # remove rows with no data (only NaN values)\n",
    "\n",
    "    coords = extract_coords(location_string.lower())\n",
    "    station_data['latitude'] = coords[0]\n",
    "    station_data['longitude'] = coords[1]\n",
    "    \n",
    "    station_data['station'] = station #add station name to all rows for this station\n",
    "\n",
    "    df = pd.concat([df, station_data])\n",
    "\n",
    "print(df)\n",
    "\n",
    "\n",
    "\n",
    "\n",
    "    "
   ]
  },
  {
   "cell_type": "code",
   "execution_count": 3,
   "metadata": {},
   "outputs": [
    {
     "name": "stdout",
     "output_type": "stream",
     "text": [
      "       yyyy   mm  tmax  tmin    af  rain    sun  latitude  longitude  station\n",
      "1    1959.0  1.0   1.7  -5.7  27.0   NaN   34.2    57.006     -3.396  braemar\n",
      "2    1959.0  2.0   6.2  -3.2  15.0   NaN   68.6    57.006     -3.396  braemar\n",
      "3    1959.0  3.0   7.6   0.8   7.0   NaN   80.9    57.006     -3.396  braemar\n",
      "4    1959.0  4.0   NaN   NaN   NaN   NaN  105.0    57.006     -3.396  braemar\n",
      "5    1959.0  5.0  15.6   4.6   1.0   NaN  182.6    57.006     -3.396  braemar\n",
      "..      ...  ...   ...   ...   ...   ...    ...       ...        ...      ...\n",
      "782  2024.0  2.0   6.7  -0.4  14.0  64.8    NaN    57.006     -3.396  braemar\n",
      "783  2024.0  3.0   7.2   0.8  10.0  93.6    NaN    57.006     -3.396  braemar\n",
      "784  2024.0  4.0   9.9   1.9   7.0  88.4    NaN    57.006     -3.396  braemar\n",
      "785  2024.0  5.0  17.3   7.7   1.0  62.2    NaN    57.006     -3.396  braemar\n",
      "786  2024.0  6.0  15.3   7.0   0.0  45.2    NaN    57.006     -3.396  braemar\n",
      "\n",
      "[786 rows x 10 columns]\n"
     ]
    }
   ],
   "source": [
    "print(df.loc[df['station']=='braemar'])"
   ]
  },
  {
   "cell_type": "code",
   "execution_count": 15,
   "metadata": {},
   "outputs": [
    {
     "data": {
      "text/html": [
       "<div>\n",
       "<style scoped>\n",
       "    .dataframe tbody tr th:only-of-type {\n",
       "        vertical-align: middle;\n",
       "    }\n",
       "\n",
       "    .dataframe tbody tr th {\n",
       "        vertical-align: top;\n",
       "    }\n",
       "\n",
       "    .dataframe thead th {\n",
       "        text-align: right;\n",
       "    }\n",
       "</style>\n",
       "<table border=\"1\" class=\"dataframe\">\n",
       "  <thead>\n",
       "    <tr style=\"text-align: right;\">\n",
       "      <th></th>\n",
       "      <th>yyyy</th>\n",
       "      <th>mm</th>\n",
       "      <th>tmax</th>\n",
       "      <th>tmin</th>\n",
       "      <th>af</th>\n",
       "      <th>rain</th>\n",
       "      <th>sun</th>\n",
       "      <th>latitude</th>\n",
       "      <th>longitude</th>\n",
       "      <th>station</th>\n",
       "    </tr>\n",
       "  </thead>\n",
       "  <tbody>\n",
       "    <tr>\n",
       "      <th>1</th>\n",
       "      <td>NaN</td>\n",
       "      <td>NaN</td>\n",
       "      <td>NaN</td>\n",
       "      <td>NaN</td>\n",
       "      <td>NaN</td>\n",
       "      <td>NaN</td>\n",
       "      <td>NaN</td>\n",
       "      <td>NaN</td>\n",
       "      <td>NaN</td>\n",
       "      <td>NaN</td>\n",
       "    </tr>\n",
       "    <tr>\n",
       "      <th>2</th>\n",
       "      <td>NaN</td>\n",
       "      <td>NaN</td>\n",
       "      <td>NaN</td>\n",
       "      <td>NaN</td>\n",
       "      <td>NaN</td>\n",
       "      <td>NaN</td>\n",
       "      <td>NaN</td>\n",
       "      <td>NaN</td>\n",
       "      <td>NaN</td>\n",
       "      <td>NaN</td>\n",
       "    </tr>\n",
       "    <tr>\n",
       "      <th>3</th>\n",
       "      <td>NaN</td>\n",
       "      <td>NaN</td>\n",
       "      <td>NaN</td>\n",
       "      <td>NaN</td>\n",
       "      <td>NaN</td>\n",
       "      <td>NaN</td>\n",
       "      <td>NaN</td>\n",
       "      <td>NaN</td>\n",
       "      <td>NaN</td>\n",
       "      <td>NaN</td>\n",
       "    </tr>\n",
       "    <tr>\n",
       "      <th>4</th>\n",
       "      <td>NaN</td>\n",
       "      <td>NaN</td>\n",
       "      <td>NaN</td>\n",
       "      <td>NaN</td>\n",
       "      <td>NaN</td>\n",
       "      <td>NaN</td>\n",
       "      <td>NaN</td>\n",
       "      <td>NaN</td>\n",
       "      <td>NaN</td>\n",
       "      <td>NaN</td>\n",
       "    </tr>\n",
       "    <tr>\n",
       "      <th>5</th>\n",
       "      <td>NaN</td>\n",
       "      <td>NaN</td>\n",
       "      <td>NaN</td>\n",
       "      <td>NaN</td>\n",
       "      <td>NaN</td>\n",
       "      <td>NaN</td>\n",
       "      <td>NaN</td>\n",
       "      <td>NaN</td>\n",
       "      <td>NaN</td>\n",
       "      <td>NaN</td>\n",
       "    </tr>\n",
       "    <tr>\n",
       "      <th>...</th>\n",
       "      <td>...</td>\n",
       "      <td>...</td>\n",
       "      <td>...</td>\n",
       "      <td>...</td>\n",
       "      <td>...</td>\n",
       "      <td>...</td>\n",
       "      <td>...</td>\n",
       "      <td>...</td>\n",
       "      <td>...</td>\n",
       "      <td>...</td>\n",
       "    </tr>\n",
       "    <tr>\n",
       "      <th>714</th>\n",
       "      <td>NaN</td>\n",
       "      <td>NaN</td>\n",
       "      <td>NaN</td>\n",
       "      <td>NaN</td>\n",
       "      <td>NaN</td>\n",
       "      <td>NaN</td>\n",
       "      <td>NaN</td>\n",
       "      <td>NaN</td>\n",
       "      <td>NaN</td>\n",
       "      <td>NaN</td>\n",
       "    </tr>\n",
       "    <tr>\n",
       "      <th>715</th>\n",
       "      <td>NaN</td>\n",
       "      <td>NaN</td>\n",
       "      <td>NaN</td>\n",
       "      <td>NaN</td>\n",
       "      <td>NaN</td>\n",
       "      <td>NaN</td>\n",
       "      <td>NaN</td>\n",
       "      <td>NaN</td>\n",
       "      <td>NaN</td>\n",
       "      <td>NaN</td>\n",
       "    </tr>\n",
       "    <tr>\n",
       "      <th>716</th>\n",
       "      <td>NaN</td>\n",
       "      <td>NaN</td>\n",
       "      <td>NaN</td>\n",
       "      <td>NaN</td>\n",
       "      <td>NaN</td>\n",
       "      <td>NaN</td>\n",
       "      <td>NaN</td>\n",
       "      <td>NaN</td>\n",
       "      <td>NaN</td>\n",
       "      <td>NaN</td>\n",
       "    </tr>\n",
       "    <tr>\n",
       "      <th>717</th>\n",
       "      <td>NaN</td>\n",
       "      <td>NaN</td>\n",
       "      <td>NaN</td>\n",
       "      <td>NaN</td>\n",
       "      <td>NaN</td>\n",
       "      <td>NaN</td>\n",
       "      <td>NaN</td>\n",
       "      <td>NaN</td>\n",
       "      <td>NaN</td>\n",
       "      <td>NaN</td>\n",
       "    </tr>\n",
       "    <tr>\n",
       "      <th>718</th>\n",
       "      <td>NaN</td>\n",
       "      <td>NaN</td>\n",
       "      <td>NaN</td>\n",
       "      <td>NaN</td>\n",
       "      <td>NaN</td>\n",
       "      <td>NaN</td>\n",
       "      <td>NaN</td>\n",
       "      <td>NaN</td>\n",
       "      <td>NaN</td>\n",
       "      <td>NaN</td>\n",
       "    </tr>\n",
       "  </tbody>\n",
       "</table>\n",
       "<p>718 rows × 10 columns</p>\n",
       "</div>"
      ],
      "text/plain": [
       "     yyyy  mm  tmax  tmin  af  rain  sun  latitude  longitude station\n",
       "1     NaN NaN   NaN   NaN NaN   NaN  NaN       NaN        NaN     NaN\n",
       "2     NaN NaN   NaN   NaN NaN   NaN  NaN       NaN        NaN     NaN\n",
       "3     NaN NaN   NaN   NaN NaN   NaN  NaN       NaN        NaN     NaN\n",
       "4     NaN NaN   NaN   NaN NaN   NaN  NaN       NaN        NaN     NaN\n",
       "5     NaN NaN   NaN   NaN NaN   NaN  NaN       NaN        NaN     NaN\n",
       "..    ...  ..   ...   ...  ..   ...  ...       ...        ...     ...\n",
       "714   NaN NaN   NaN   NaN NaN   NaN  NaN       NaN        NaN     NaN\n",
       "715   NaN NaN   NaN   NaN NaN   NaN  NaN       NaN        NaN     NaN\n",
       "716   NaN NaN   NaN   NaN NaN   NaN  NaN       NaN        NaN     NaN\n",
       "717   NaN NaN   NaN   NaN NaN   NaN  NaN       NaN        NaN     NaN\n",
       "718   NaN NaN   NaN   NaN NaN   NaN  NaN       NaN        NaN     NaN\n",
       "\n",
       "[718 rows x 10 columns]"
      ]
     },
     "execution_count": 15,
     "metadata": {},
     "output_type": "execute_result"
    }
   ],
   "source": [
    "station_data[station_data.isna()]"
   ]
  },
  {
   "cell_type": "code",
   "execution_count": 28,
   "metadata": {},
   "outputs": [
    {
     "data": {
      "text/html": [
       "<div>\n",
       "<style scoped>\n",
       "    .dataframe tbody tr th:only-of-type {\n",
       "        vertical-align: middle;\n",
       "    }\n",
       "\n",
       "    .dataframe tbody tr th {\n",
       "        vertical-align: top;\n",
       "    }\n",
       "\n",
       "    .dataframe thead th {\n",
       "        text-align: right;\n",
       "    }\n",
       "</style>\n",
       "<table border=\"1\" class=\"dataframe\">\n",
       "  <thead>\n",
       "    <tr style=\"text-align: right;\">\n",
       "      <th></th>\n",
       "      <th>yyyy</th>\n",
       "      <th>mm</th>\n",
       "      <th>tmax</th>\n",
       "      <th>tmin</th>\n",
       "      <th>af</th>\n",
       "      <th>rain</th>\n",
       "      <th>sun</th>\n",
       "      <th>latitude</th>\n",
       "      <th>longitude</th>\n",
       "      <th>cluster</th>\n",
       "    </tr>\n",
       "    <tr>\n",
       "      <th>station</th>\n",
       "      <th></th>\n",
       "      <th></th>\n",
       "      <th></th>\n",
       "      <th></th>\n",
       "      <th></th>\n",
       "      <th></th>\n",
       "      <th></th>\n",
       "      <th></th>\n",
       "      <th></th>\n",
       "      <th></th>\n",
       "    </tr>\n",
       "  </thead>\n",
       "  <tbody>\n",
       "    <tr>\n",
       "      <th>aberporth</th>\n",
       "      <td>1978.627119</td>\n",
       "      <td>6.474576</td>\n",
       "      <td>12.222976</td>\n",
       "      <td>7.026177</td>\n",
       "      <td>1.717514</td>\n",
       "      <td>73.907345</td>\n",
       "      <td>127.874953</td>\n",
       "      <td>52.139</td>\n",
       "      <td>-4.570</td>\n",
       "      <td>0</td>\n",
       "    </tr>\n",
       "    <tr>\n",
       "      <th>armagh</th>\n",
       "      <td>1975.735081</td>\n",
       "      <td>6.472875</td>\n",
       "      <td>13.126944</td>\n",
       "      <td>5.834629</td>\n",
       "      <td>3.315552</td>\n",
       "      <td>68.494394</td>\n",
       "      <td>104.225769</td>\n",
       "      <td>54.352</td>\n",
       "      <td>-6.649</td>\n",
       "      <td>1</td>\n",
       "    </tr>\n",
       "    <tr>\n",
       "      <th>bradford</th>\n",
       "      <td>1959.501324</td>\n",
       "      <td>6.474846</td>\n",
       "      <td>12.129391</td>\n",
       "      <td>5.602560</td>\n",
       "      <td>3.881730</td>\n",
       "      <td>72.719153</td>\n",
       "      <td>102.480936</td>\n",
       "      <td>53.813</td>\n",
       "      <td>-1.772</td>\n",
       "      <td>1</td>\n",
       "    </tr>\n",
       "    <tr>\n",
       "      <th>braemar</th>\n",
       "      <td>1982.291139</td>\n",
       "      <td>6.487342</td>\n",
       "      <td>10.361181</td>\n",
       "      <td>2.733544</td>\n",
       "      <td>8.681435</td>\n",
       "      <td>74.153376</td>\n",
       "      <td>99.032911</td>\n",
       "      <td>57.006</td>\n",
       "      <td>-3.396</td>\n",
       "      <td>1</td>\n",
       "    </tr>\n",
       "    <tr>\n",
       "      <th>camborne</th>\n",
       "      <td>1992.870206</td>\n",
       "      <td>6.469027</td>\n",
       "      <td>13.350737</td>\n",
       "      <td>8.251032</td>\n",
       "      <td>0.769912</td>\n",
       "      <td>89.090265</td>\n",
       "      <td>137.336873</td>\n",
       "      <td>50.218</td>\n",
       "      <td>-5.327</td>\n",
       "      <td>0</td>\n",
       "    </tr>\n",
       "    <tr>\n",
       "      <th>cambridge</th>\n",
       "      <td>1984.569620</td>\n",
       "      <td>6.491863</td>\n",
       "      <td>14.174503</td>\n",
       "      <td>6.153888</td>\n",
       "      <td>3.674503</td>\n",
       "      <td>45.803436</td>\n",
       "      <td>124.640145</td>\n",
       "      <td>52.245</td>\n",
       "      <td>0.102</td>\n",
       "      <td>0</td>\n",
       "    </tr>\n",
       "    <tr>\n",
       "      <th>cardiff</th>\n",
       "      <td>1986.480769</td>\n",
       "      <td>6.490385</td>\n",
       "      <td>14.146635</td>\n",
       "      <td>6.783173</td>\n",
       "      <td>3.096154</td>\n",
       "      <td>92.924519</td>\n",
       "      <td>123.493269</td>\n",
       "      <td>51.488</td>\n",
       "      <td>-3.187</td>\n",
       "      <td>1</td>\n",
       "    </tr>\n",
       "    <tr>\n",
       "      <th>cwmystwyth</th>\n",
       "      <td>1986.868321</td>\n",
       "      <td>6.440840</td>\n",
       "      <td>11.651145</td>\n",
       "      <td>4.951336</td>\n",
       "      <td>4.996183</td>\n",
       "      <td>151.117366</td>\n",
       "      <td>96.800573</td>\n",
       "      <td>52.358</td>\n",
       "      <td>-3.802</td>\n",
       "      <td>2</td>\n",
       "    </tr>\n",
       "    <tr>\n",
       "      <th>dunstaffnage</th>\n",
       "      <td>1991.509434</td>\n",
       "      <td>6.551887</td>\n",
       "      <td>12.397170</td>\n",
       "      <td>6.302830</td>\n",
       "      <td>2.221698</td>\n",
       "      <td>147.696698</td>\n",
       "      <td>102.238208</td>\n",
       "      <td>56.451</td>\n",
       "      <td>-5.439</td>\n",
       "      <td>2</td>\n",
       "    </tr>\n",
       "    <tr>\n",
       "      <th>durham</th>\n",
       "      <td>1944.375854</td>\n",
       "      <td>6.489749</td>\n",
       "      <td>12.261579</td>\n",
       "      <td>4.743812</td>\n",
       "      <td>4.849658</td>\n",
       "      <td>53.561276</td>\n",
       "      <td>111.454594</td>\n",
       "      <td>54.768</td>\n",
       "      <td>-1.585</td>\n",
       "      <td>0</td>\n",
       "    </tr>\n",
       "    <tr>\n",
       "      <th>eastbourne</th>\n",
       "      <td>1989.147994</td>\n",
       "      <td>6.417704</td>\n",
       "      <td>13.923513</td>\n",
       "      <td>8.352144</td>\n",
       "      <td>1.435685</td>\n",
       "      <td>66.367220</td>\n",
       "      <td>155.330844</td>\n",
       "      <td>50.762</td>\n",
       "      <td>0.285</td>\n",
       "      <td>0</td>\n",
       "    </tr>\n",
       "    <tr>\n",
       "      <th>eskdalemuir</th>\n",
       "      <td>1979.798092</td>\n",
       "      <td>6.488076</td>\n",
       "      <td>10.961685</td>\n",
       "      <td>3.538315</td>\n",
       "      <td>7.321145</td>\n",
       "      <td>132.352305</td>\n",
       "      <td>99.713355</td>\n",
       "      <td>55.311</td>\n",
       "      <td>-3.206</td>\n",
       "      <td>2</td>\n",
       "    </tr>\n",
       "    <tr>\n",
       "      <th>heathrow</th>\n",
       "      <td>1980.835616</td>\n",
       "      <td>6.472603</td>\n",
       "      <td>14.759932</td>\n",
       "      <td>7.004966</td>\n",
       "      <td>3.000000</td>\n",
       "      <td>50.100000</td>\n",
       "      <td>130.334932</td>\n",
       "      <td>51.479</td>\n",
       "      <td>-0.449</td>\n",
       "      <td>0</td>\n",
       "    </tr>\n",
       "    <tr>\n",
       "      <th>hurn</th>\n",
       "      <td>1986.139151</td>\n",
       "      <td>6.466981</td>\n",
       "      <td>14.456368</td>\n",
       "      <td>5.733491</td>\n",
       "      <td>5.141509</td>\n",
       "      <td>68.223113</td>\n",
       "      <td>143.109198</td>\n",
       "      <td>50.779</td>\n",
       "      <td>-1.835</td>\n",
       "      <td>0</td>\n",
       "    </tr>\n",
       "    <tr>\n",
       "      <th>lerwick</th>\n",
       "      <td>1969.081081</td>\n",
       "      <td>6.497297</td>\n",
       "      <td>9.422595</td>\n",
       "      <td>4.954054</td>\n",
       "      <td>3.313514</td>\n",
       "      <td>95.658270</td>\n",
       "      <td>89.611027</td>\n",
       "      <td>60.139</td>\n",
       "      <td>-1.183</td>\n",
       "      <td>1</td>\n",
       "    </tr>\n",
       "    <tr>\n",
       "      <th>leuchars</th>\n",
       "      <td>1980.835616</td>\n",
       "      <td>6.472603</td>\n",
       "      <td>12.164555</td>\n",
       "      <td>4.868493</td>\n",
       "      <td>5.063356</td>\n",
       "      <td>55.675685</td>\n",
       "      <td>125.438014</td>\n",
       "      <td>56.377</td>\n",
       "      <td>-2.861</td>\n",
       "      <td>0</td>\n",
       "    </tr>\n",
       "    <tr>\n",
       "      <th>lowestoft</th>\n",
       "      <td>1972.665880</td>\n",
       "      <td>6.493506</td>\n",
       "      <td>13.243329</td>\n",
       "      <td>6.949233</td>\n",
       "      <td>2.532468</td>\n",
       "      <td>50.043329</td>\n",
       "      <td>133.275561</td>\n",
       "      <td>52.483</td>\n",
       "      <td>1.727</td>\n",
       "      <td>0</td>\n",
       "    </tr>\n",
       "    <tr>\n",
       "      <th>manston</th>\n",
       "      <td>1986.500000</td>\n",
       "      <td>6.500000</td>\n",
       "      <td>13.786145</td>\n",
       "      <td>7.104217</td>\n",
       "      <td>2.424699</td>\n",
       "      <td>46.595482</td>\n",
       "      <td>144.664458</td>\n",
       "      <td>51.346</td>\n",
       "      <td>1.337</td>\n",
       "      <td>0</td>\n",
       "    </tr>\n",
       "    <tr>\n",
       "      <th>nairn</th>\n",
       "      <td>1970.937632</td>\n",
       "      <td>6.472516</td>\n",
       "      <td>11.893763</td>\n",
       "      <td>4.895137</td>\n",
       "      <td>4.434461</td>\n",
       "      <td>52.397780</td>\n",
       "      <td>106.805708</td>\n",
       "      <td>57.593</td>\n",
       "      <td>-3.821</td>\n",
       "      <td>0</td>\n",
       "    </tr>\n",
       "    <tr>\n",
       "      <th>newtonrigg</th>\n",
       "      <td>1971.199095</td>\n",
       "      <td>6.475113</td>\n",
       "      <td>11.498190</td>\n",
       "      <td>4.473303</td>\n",
       "      <td>5.425339</td>\n",
       "      <td>76.316290</td>\n",
       "      <td>106.942986</td>\n",
       "      <td>54.670</td>\n",
       "      <td>-2.786</td>\n",
       "      <td>1</td>\n",
       "    </tr>\n",
       "    <tr>\n",
       "      <th>oxford</th>\n",
       "      <td>1975.058024</td>\n",
       "      <td>6.470535</td>\n",
       "      <td>14.265549</td>\n",
       "      <td>6.540073</td>\n",
       "      <td>3.347235</td>\n",
       "      <td>54.854669</td>\n",
       "      <td>128.292475</td>\n",
       "      <td>51.761</td>\n",
       "      <td>-1.262</td>\n",
       "      <td>0</td>\n",
       "    </tr>\n",
       "    <tr>\n",
       "      <th>paisley</th>\n",
       "      <td>1984.600000</td>\n",
       "      <td>6.478400</td>\n",
       "      <td>12.616160</td>\n",
       "      <td>6.049280</td>\n",
       "      <td>3.217600</td>\n",
       "      <td>98.293120</td>\n",
       "      <td>104.099680</td>\n",
       "      <td>55.846</td>\n",
       "      <td>-4.430</td>\n",
       "      <td>1</td>\n",
       "    </tr>\n",
       "    <tr>\n",
       "      <th>ringway</th>\n",
       "      <td>1982.418251</td>\n",
       "      <td>6.480989</td>\n",
       "      <td>13.070342</td>\n",
       "      <td>6.297529</td>\n",
       "      <td>3.378327</td>\n",
       "      <td>67.892966</td>\n",
       "      <td>115.995437</td>\n",
       "      <td>53.356</td>\n",
       "      <td>-2.279</td>\n",
       "      <td>0</td>\n",
       "    </tr>\n",
       "    <tr>\n",
       "      <th>rossonwye</th>\n",
       "      <td>1972.848018</td>\n",
       "      <td>6.508811</td>\n",
       "      <td>14.059361</td>\n",
       "      <td>6.270374</td>\n",
       "      <td>3.704846</td>\n",
       "      <td>60.016960</td>\n",
       "      <td>125.081718</td>\n",
       "      <td>51.911</td>\n",
       "      <td>-2.584</td>\n",
       "      <td>0</td>\n",
       "    </tr>\n",
       "    <tr>\n",
       "      <th>shawbury</th>\n",
       "      <td>1978.916045</td>\n",
       "      <td>6.475746</td>\n",
       "      <td>13.222015</td>\n",
       "      <td>5.114925</td>\n",
       "      <td>5.179104</td>\n",
       "      <td>55.586754</td>\n",
       "      <td>115.786567</td>\n",
       "      <td>52.794</td>\n",
       "      <td>-2.663</td>\n",
       "      <td>0</td>\n",
       "    </tr>\n",
       "    <tr>\n",
       "      <th>sheffield</th>\n",
       "      <td>1970.487537</td>\n",
       "      <td>6.490528</td>\n",
       "      <td>12.987438</td>\n",
       "      <td>6.380060</td>\n",
       "      <td>2.858425</td>\n",
       "      <td>67.825025</td>\n",
       "      <td>110.581854</td>\n",
       "      <td>53.381</td>\n",
       "      <td>-1.490</td>\n",
       "      <td>1</td>\n",
       "    </tr>\n",
       "    <tr>\n",
       "      <th>southampton</th>\n",
       "      <td>1943.183024</td>\n",
       "      <td>6.477454</td>\n",
       "      <td>14.525906</td>\n",
       "      <td>6.850398</td>\n",
       "      <td>2.994695</td>\n",
       "      <td>65.814324</td>\n",
       "      <td>137.440053</td>\n",
       "      <td>50.898</td>\n",
       "      <td>-1.408</td>\n",
       "      <td>0</td>\n",
       "    </tr>\n",
       "    <tr>\n",
       "      <th>stornoway</th>\n",
       "      <td>1965.334842</td>\n",
       "      <td>6.481900</td>\n",
       "      <td>11.061991</td>\n",
       "      <td>5.520588</td>\n",
       "      <td>2.752262</td>\n",
       "      <td>96.093100</td>\n",
       "      <td>102.960747</td>\n",
       "      <td>58.214</td>\n",
       "      <td>-6.318</td>\n",
       "      <td>1</td>\n",
       "    </tr>\n",
       "    <tr>\n",
       "      <th>suttonbonington</th>\n",
       "      <td>1980.254425</td>\n",
       "      <td>6.500000</td>\n",
       "      <td>13.368142</td>\n",
       "      <td>5.592035</td>\n",
       "      <td>4.261062</td>\n",
       "      <td>49.421460</td>\n",
       "      <td>114.976991</td>\n",
       "      <td>52.833</td>\n",
       "      <td>-1.250</td>\n",
       "      <td>0</td>\n",
       "    </tr>\n",
       "    <tr>\n",
       "      <th>tiree</th>\n",
       "      <td>1965.751179</td>\n",
       "      <td>6.485849</td>\n",
       "      <td>11.538915</td>\n",
       "      <td>6.639151</td>\n",
       "      <td>1.239387</td>\n",
       "      <td>96.936321</td>\n",
       "      <td>118.161557</td>\n",
       "      <td>56.500</td>\n",
       "      <td>-6.880</td>\n",
       "      <td>1</td>\n",
       "    </tr>\n",
       "    <tr>\n",
       "      <th>valley</th>\n",
       "      <td>1965.904706</td>\n",
       "      <td>6.495294</td>\n",
       "      <td>12.903765</td>\n",
       "      <td>7.374353</td>\n",
       "      <td>1.622353</td>\n",
       "      <td>70.843882</td>\n",
       "      <td>134.134235</td>\n",
       "      <td>53.252</td>\n",
       "      <td>-4.535</td>\n",
       "      <td>0</td>\n",
       "    </tr>\n",
       "    <tr>\n",
       "      <th>waddington</th>\n",
       "      <td>1977.668571</td>\n",
       "      <td>6.477143</td>\n",
       "      <td>13.059429</td>\n",
       "      <td>5.788857</td>\n",
       "      <td>3.864286</td>\n",
       "      <td>50.324286</td>\n",
       "      <td>127.784714</td>\n",
       "      <td>53.175</td>\n",
       "      <td>-0.522</td>\n",
       "      <td>0</td>\n",
       "    </tr>\n",
       "    <tr>\n",
       "      <th>whitby</th>\n",
       "      <td>2011.653846</td>\n",
       "      <td>6.419580</td>\n",
       "      <td>13.514685</td>\n",
       "      <td>6.700350</td>\n",
       "      <td>2.381119</td>\n",
       "      <td>58.254895</td>\n",
       "      <td>140.484266</td>\n",
       "      <td>54.481</td>\n",
       "      <td>-0.624</td>\n",
       "      <td>0</td>\n",
       "    </tr>\n",
       "    <tr>\n",
       "      <th>wickairport</th>\n",
       "      <td>1969.148789</td>\n",
       "      <td>6.520761</td>\n",
       "      <td>10.509343</td>\n",
       "      <td>4.852249</td>\n",
       "      <td>3.854671</td>\n",
       "      <td>65.838235</td>\n",
       "      <td>104.285813</td>\n",
       "      <td>58.454</td>\n",
       "      <td>-3.088</td>\n",
       "      <td>1</td>\n",
       "    </tr>\n",
       "    <tr>\n",
       "      <th>yeovilton</th>\n",
       "      <td>1993.131915</td>\n",
       "      <td>6.485106</td>\n",
       "      <td>14.457872</td>\n",
       "      <td>6.120000</td>\n",
       "      <td>4.327660</td>\n",
       "      <td>59.970638</td>\n",
       "      <td>128.466383</td>\n",
       "      <td>51.006</td>\n",
       "      <td>-2.641</td>\n",
       "      <td>0</td>\n",
       "    </tr>\n",
       "  </tbody>\n",
       "</table>\n",
       "</div>"
      ],
      "text/plain": [
       "                        yyyy        mm       tmax      tmin        af  \\\n",
       "station                                                                 \n",
       "aberporth        1978.627119  6.474576  12.222976  7.026177  1.717514   \n",
       "armagh           1975.735081  6.472875  13.126944  5.834629  3.315552   \n",
       "bradford         1959.501324  6.474846  12.129391  5.602560  3.881730   \n",
       "braemar          1982.291139  6.487342  10.361181  2.733544  8.681435   \n",
       "camborne         1992.870206  6.469027  13.350737  8.251032  0.769912   \n",
       "cambridge        1984.569620  6.491863  14.174503  6.153888  3.674503   \n",
       "cardiff          1986.480769  6.490385  14.146635  6.783173  3.096154   \n",
       "cwmystwyth       1986.868321  6.440840  11.651145  4.951336  4.996183   \n",
       "dunstaffnage     1991.509434  6.551887  12.397170  6.302830  2.221698   \n",
       "durham           1944.375854  6.489749  12.261579  4.743812  4.849658   \n",
       "eastbourne       1989.147994  6.417704  13.923513  8.352144  1.435685   \n",
       "eskdalemuir      1979.798092  6.488076  10.961685  3.538315  7.321145   \n",
       "heathrow         1980.835616  6.472603  14.759932  7.004966  3.000000   \n",
       "hurn             1986.139151  6.466981  14.456368  5.733491  5.141509   \n",
       "lerwick          1969.081081  6.497297   9.422595  4.954054  3.313514   \n",
       "leuchars         1980.835616  6.472603  12.164555  4.868493  5.063356   \n",
       "lowestoft        1972.665880  6.493506  13.243329  6.949233  2.532468   \n",
       "manston          1986.500000  6.500000  13.786145  7.104217  2.424699   \n",
       "nairn            1970.937632  6.472516  11.893763  4.895137  4.434461   \n",
       "newtonrigg       1971.199095  6.475113  11.498190  4.473303  5.425339   \n",
       "oxford           1975.058024  6.470535  14.265549  6.540073  3.347235   \n",
       "paisley          1984.600000  6.478400  12.616160  6.049280  3.217600   \n",
       "ringway          1982.418251  6.480989  13.070342  6.297529  3.378327   \n",
       "rossonwye        1972.848018  6.508811  14.059361  6.270374  3.704846   \n",
       "shawbury         1978.916045  6.475746  13.222015  5.114925  5.179104   \n",
       "sheffield        1970.487537  6.490528  12.987438  6.380060  2.858425   \n",
       "southampton      1943.183024  6.477454  14.525906  6.850398  2.994695   \n",
       "stornoway        1965.334842  6.481900  11.061991  5.520588  2.752262   \n",
       "suttonbonington  1980.254425  6.500000  13.368142  5.592035  4.261062   \n",
       "tiree            1965.751179  6.485849  11.538915  6.639151  1.239387   \n",
       "valley           1965.904706  6.495294  12.903765  7.374353  1.622353   \n",
       "waddington       1977.668571  6.477143  13.059429  5.788857  3.864286   \n",
       "whitby           2011.653846  6.419580  13.514685  6.700350  2.381119   \n",
       "wickairport      1969.148789  6.520761  10.509343  4.852249  3.854671   \n",
       "yeovilton        1993.131915  6.485106  14.457872  6.120000  4.327660   \n",
       "\n",
       "                       rain         sun  latitude  longitude  cluster  \n",
       "station                                                                \n",
       "aberporth         73.907345  127.874953    52.139     -4.570        0  \n",
       "armagh            68.494394  104.225769    54.352     -6.649        1  \n",
       "bradford          72.719153  102.480936    53.813     -1.772        1  \n",
       "braemar           74.153376   99.032911    57.006     -3.396        1  \n",
       "camborne          89.090265  137.336873    50.218     -5.327        0  \n",
       "cambridge         45.803436  124.640145    52.245      0.102        0  \n",
       "cardiff           92.924519  123.493269    51.488     -3.187        1  \n",
       "cwmystwyth       151.117366   96.800573    52.358     -3.802        2  \n",
       "dunstaffnage     147.696698  102.238208    56.451     -5.439        2  \n",
       "durham            53.561276  111.454594    54.768     -1.585        0  \n",
       "eastbourne        66.367220  155.330844    50.762      0.285        0  \n",
       "eskdalemuir      132.352305   99.713355    55.311     -3.206        2  \n",
       "heathrow          50.100000  130.334932    51.479     -0.449        0  \n",
       "hurn              68.223113  143.109198    50.779     -1.835        0  \n",
       "lerwick           95.658270   89.611027    60.139     -1.183        1  \n",
       "leuchars          55.675685  125.438014    56.377     -2.861        0  \n",
       "lowestoft         50.043329  133.275561    52.483      1.727        0  \n",
       "manston           46.595482  144.664458    51.346      1.337        0  \n",
       "nairn             52.397780  106.805708    57.593     -3.821        0  \n",
       "newtonrigg        76.316290  106.942986    54.670     -2.786        1  \n",
       "oxford            54.854669  128.292475    51.761     -1.262        0  \n",
       "paisley           98.293120  104.099680    55.846     -4.430        1  \n",
       "ringway           67.892966  115.995437    53.356     -2.279        0  \n",
       "rossonwye         60.016960  125.081718    51.911     -2.584        0  \n",
       "shawbury          55.586754  115.786567    52.794     -2.663        0  \n",
       "sheffield         67.825025  110.581854    53.381     -1.490        1  \n",
       "southampton       65.814324  137.440053    50.898     -1.408        0  \n",
       "stornoway         96.093100  102.960747    58.214     -6.318        1  \n",
       "suttonbonington   49.421460  114.976991    52.833     -1.250        0  \n",
       "tiree             96.936321  118.161557    56.500     -6.880        1  \n",
       "valley            70.843882  134.134235    53.252     -4.535        0  \n",
       "waddington        50.324286  127.784714    53.175     -0.522        0  \n",
       "whitby            58.254895  140.484266    54.481     -0.624        0  \n",
       "wickairport       65.838235  104.285813    58.454     -3.088        1  \n",
       "yeovilton         59.970638  128.466383    51.006     -2.641        0  "
      ]
     },
     "execution_count": 28,
     "metadata": {},
     "output_type": "execute_result"
    }
   ],
   "source": [
    "from sklearn.cluster import k_means\n",
    "\n",
    "means_by_station = df.dropna(how='any').groupby(['station']).mean()\n",
    "\n",
    "centroid, label, inertia = k_means(means_by_station[['mm','tmax','tmin','af','rain','sun']],\n",
    "                                   n_clusters=3\n",
    ")\n",
    "\n",
    "clustered_means = means_by_station.assign(cluster=label)\n",
    "\n",
    "clustered_means"
   ]
  },
  {
   "cell_type": "code",
   "execution_count": 29,
   "metadata": {},
   "outputs": [
    {
     "data": {
      "application/vnd.plotly.v1+json": {
       "config": {
        "plotlyServerURL": "https://plot.ly"
       },
       "data": [
        {
         "geo": "geo",
         "hovertemplate": "latitude=%{lat}<br>longitude=%{lon}<br>cluster=%{marker.color}<extra></extra>",
         "lat": [
          52.139,
          54.352,
          53.813,
          57.006,
          50.218,
          52.245,
          51.48800000000001,
          52.358,
          56.45100000000001,
          54.76800000000001,
          50.762,
          55.311,
          51.479,
          50.779,
          60.139,
          56.376999999999995,
          52.483,
          51.346,
          57.593,
          54.67,
          51.761,
          55.846,
          53.356,
          51.911,
          52.794,
          53.381,
          50.898,
          58.214,
          52.833,
          56.5,
          53.252,
          53.175,
          54.481,
          58.45400000000001,
          51.006
         ],
         "legendgroup": "",
         "lon": [
          -4.57,
          -6.649,
          -1.772,
          -3.396,
          -5.327,
          0.102,
          -3.187,
          -3.802,
          -5.439,
          -1.5850000000000002,
          0.285,
          -3.206,
          -0.449,
          -1.835,
          -1.183,
          -2.861,
          1.727,
          1.337,
          -3.821,
          -2.786,
          -1.262,
          -4.43,
          -2.279,
          -2.584,
          -2.663,
          -1.49,
          -1.408,
          -6.3180000000000005,
          -1.25,
          -6.88,
          -4.535,
          -0.522,
          -0.624,
          -3.088,
          -2.641
         ],
         "marker": {
          "color": [
           0,
           1,
           1,
           1,
           0,
           0,
           1,
           2,
           2,
           0,
           0,
           2,
           0,
           0,
           1,
           0,
           0,
           0,
           0,
           1,
           0,
           1,
           0,
           0,
           0,
           1,
           0,
           1,
           0,
           1,
           0,
           0,
           0,
           1,
           0
          ],
          "coloraxis": "coloraxis",
          "symbol": "circle"
         },
         "mode": "markers",
         "name": "",
         "showlegend": false,
         "type": "scattergeo"
        }
       ],
       "layout": {
        "coloraxis": {
         "colorbar": {
          "title": {
           "text": "cluster"
          }
         },
         "colorscale": [
          [
           0,
           "#0d0887"
          ],
          [
           0.1111111111111111,
           "#46039f"
          ],
          [
           0.2222222222222222,
           "#7201a8"
          ],
          [
           0.3333333333333333,
           "#9c179e"
          ],
          [
           0.4444444444444444,
           "#bd3786"
          ],
          [
           0.5555555555555556,
           "#d8576b"
          ],
          [
           0.6666666666666666,
           "#ed7953"
          ],
          [
           0.7777777777777778,
           "#fb9f3a"
          ],
          [
           0.8888888888888888,
           "#fdca26"
          ],
          [
           1,
           "#f0f921"
          ]
         ]
        },
        "geo": {
         "center": {},
         "domain": {
          "x": [
           0,
           1
          ],
          "y": [
           0,
           1
          ]
         }
        },
        "legend": {
         "tracegroupgap": 0
        },
        "margin": {
         "t": 60
        },
        "template": {
         "data": {
          "bar": [
           {
            "error_x": {
             "color": "#2a3f5f"
            },
            "error_y": {
             "color": "#2a3f5f"
            },
            "marker": {
             "line": {
              "color": "#E5ECF6",
              "width": 0.5
             },
             "pattern": {
              "fillmode": "overlay",
              "size": 10,
              "solidity": 0.2
             }
            },
            "type": "bar"
           }
          ],
          "barpolar": [
           {
            "marker": {
             "line": {
              "color": "#E5ECF6",
              "width": 0.5
             },
             "pattern": {
              "fillmode": "overlay",
              "size": 10,
              "solidity": 0.2
             }
            },
            "type": "barpolar"
           }
          ],
          "carpet": [
           {
            "aaxis": {
             "endlinecolor": "#2a3f5f",
             "gridcolor": "white",
             "linecolor": "white",
             "minorgridcolor": "white",
             "startlinecolor": "#2a3f5f"
            },
            "baxis": {
             "endlinecolor": "#2a3f5f",
             "gridcolor": "white",
             "linecolor": "white",
             "minorgridcolor": "white",
             "startlinecolor": "#2a3f5f"
            },
            "type": "carpet"
           }
          ],
          "choropleth": [
           {
            "colorbar": {
             "outlinewidth": 0,
             "ticks": ""
            },
            "type": "choropleth"
           }
          ],
          "contour": [
           {
            "colorbar": {
             "outlinewidth": 0,
             "ticks": ""
            },
            "colorscale": [
             [
              0,
              "#0d0887"
             ],
             [
              0.1111111111111111,
              "#46039f"
             ],
             [
              0.2222222222222222,
              "#7201a8"
             ],
             [
              0.3333333333333333,
              "#9c179e"
             ],
             [
              0.4444444444444444,
              "#bd3786"
             ],
             [
              0.5555555555555556,
              "#d8576b"
             ],
             [
              0.6666666666666666,
              "#ed7953"
             ],
             [
              0.7777777777777778,
              "#fb9f3a"
             ],
             [
              0.8888888888888888,
              "#fdca26"
             ],
             [
              1,
              "#f0f921"
             ]
            ],
            "type": "contour"
           }
          ],
          "contourcarpet": [
           {
            "colorbar": {
             "outlinewidth": 0,
             "ticks": ""
            },
            "type": "contourcarpet"
           }
          ],
          "heatmap": [
           {
            "colorbar": {
             "outlinewidth": 0,
             "ticks": ""
            },
            "colorscale": [
             [
              0,
              "#0d0887"
             ],
             [
              0.1111111111111111,
              "#46039f"
             ],
             [
              0.2222222222222222,
              "#7201a8"
             ],
             [
              0.3333333333333333,
              "#9c179e"
             ],
             [
              0.4444444444444444,
              "#bd3786"
             ],
             [
              0.5555555555555556,
              "#d8576b"
             ],
             [
              0.6666666666666666,
              "#ed7953"
             ],
             [
              0.7777777777777778,
              "#fb9f3a"
             ],
             [
              0.8888888888888888,
              "#fdca26"
             ],
             [
              1,
              "#f0f921"
             ]
            ],
            "type": "heatmap"
           }
          ],
          "heatmapgl": [
           {
            "colorbar": {
             "outlinewidth": 0,
             "ticks": ""
            },
            "colorscale": [
             [
              0,
              "#0d0887"
             ],
             [
              0.1111111111111111,
              "#46039f"
             ],
             [
              0.2222222222222222,
              "#7201a8"
             ],
             [
              0.3333333333333333,
              "#9c179e"
             ],
             [
              0.4444444444444444,
              "#bd3786"
             ],
             [
              0.5555555555555556,
              "#d8576b"
             ],
             [
              0.6666666666666666,
              "#ed7953"
             ],
             [
              0.7777777777777778,
              "#fb9f3a"
             ],
             [
              0.8888888888888888,
              "#fdca26"
             ],
             [
              1,
              "#f0f921"
             ]
            ],
            "type": "heatmapgl"
           }
          ],
          "histogram": [
           {
            "marker": {
             "pattern": {
              "fillmode": "overlay",
              "size": 10,
              "solidity": 0.2
             }
            },
            "type": "histogram"
           }
          ],
          "histogram2d": [
           {
            "colorbar": {
             "outlinewidth": 0,
             "ticks": ""
            },
            "colorscale": [
             [
              0,
              "#0d0887"
             ],
             [
              0.1111111111111111,
              "#46039f"
             ],
             [
              0.2222222222222222,
              "#7201a8"
             ],
             [
              0.3333333333333333,
              "#9c179e"
             ],
             [
              0.4444444444444444,
              "#bd3786"
             ],
             [
              0.5555555555555556,
              "#d8576b"
             ],
             [
              0.6666666666666666,
              "#ed7953"
             ],
             [
              0.7777777777777778,
              "#fb9f3a"
             ],
             [
              0.8888888888888888,
              "#fdca26"
             ],
             [
              1,
              "#f0f921"
             ]
            ],
            "type": "histogram2d"
           }
          ],
          "histogram2dcontour": [
           {
            "colorbar": {
             "outlinewidth": 0,
             "ticks": ""
            },
            "colorscale": [
             [
              0,
              "#0d0887"
             ],
             [
              0.1111111111111111,
              "#46039f"
             ],
             [
              0.2222222222222222,
              "#7201a8"
             ],
             [
              0.3333333333333333,
              "#9c179e"
             ],
             [
              0.4444444444444444,
              "#bd3786"
             ],
             [
              0.5555555555555556,
              "#d8576b"
             ],
             [
              0.6666666666666666,
              "#ed7953"
             ],
             [
              0.7777777777777778,
              "#fb9f3a"
             ],
             [
              0.8888888888888888,
              "#fdca26"
             ],
             [
              1,
              "#f0f921"
             ]
            ],
            "type": "histogram2dcontour"
           }
          ],
          "mesh3d": [
           {
            "colorbar": {
             "outlinewidth": 0,
             "ticks": ""
            },
            "type": "mesh3d"
           }
          ],
          "parcoords": [
           {
            "line": {
             "colorbar": {
              "outlinewidth": 0,
              "ticks": ""
             }
            },
            "type": "parcoords"
           }
          ],
          "pie": [
           {
            "automargin": true,
            "type": "pie"
           }
          ],
          "scatter": [
           {
            "fillpattern": {
             "fillmode": "overlay",
             "size": 10,
             "solidity": 0.2
            },
            "type": "scatter"
           }
          ],
          "scatter3d": [
           {
            "line": {
             "colorbar": {
              "outlinewidth": 0,
              "ticks": ""
             }
            },
            "marker": {
             "colorbar": {
              "outlinewidth": 0,
              "ticks": ""
             }
            },
            "type": "scatter3d"
           }
          ],
          "scattercarpet": [
           {
            "marker": {
             "colorbar": {
              "outlinewidth": 0,
              "ticks": ""
             }
            },
            "type": "scattercarpet"
           }
          ],
          "scattergeo": [
           {
            "marker": {
             "colorbar": {
              "outlinewidth": 0,
              "ticks": ""
             }
            },
            "type": "scattergeo"
           }
          ],
          "scattergl": [
           {
            "marker": {
             "colorbar": {
              "outlinewidth": 0,
              "ticks": ""
             }
            },
            "type": "scattergl"
           }
          ],
          "scattermapbox": [
           {
            "marker": {
             "colorbar": {
              "outlinewidth": 0,
              "ticks": ""
             }
            },
            "type": "scattermapbox"
           }
          ],
          "scatterpolar": [
           {
            "marker": {
             "colorbar": {
              "outlinewidth": 0,
              "ticks": ""
             }
            },
            "type": "scatterpolar"
           }
          ],
          "scatterpolargl": [
           {
            "marker": {
             "colorbar": {
              "outlinewidth": 0,
              "ticks": ""
             }
            },
            "type": "scatterpolargl"
           }
          ],
          "scatterternary": [
           {
            "marker": {
             "colorbar": {
              "outlinewidth": 0,
              "ticks": ""
             }
            },
            "type": "scatterternary"
           }
          ],
          "surface": [
           {
            "colorbar": {
             "outlinewidth": 0,
             "ticks": ""
            },
            "colorscale": [
             [
              0,
              "#0d0887"
             ],
             [
              0.1111111111111111,
              "#46039f"
             ],
             [
              0.2222222222222222,
              "#7201a8"
             ],
             [
              0.3333333333333333,
              "#9c179e"
             ],
             [
              0.4444444444444444,
              "#bd3786"
             ],
             [
              0.5555555555555556,
              "#d8576b"
             ],
             [
              0.6666666666666666,
              "#ed7953"
             ],
             [
              0.7777777777777778,
              "#fb9f3a"
             ],
             [
              0.8888888888888888,
              "#fdca26"
             ],
             [
              1,
              "#f0f921"
             ]
            ],
            "type": "surface"
           }
          ],
          "table": [
           {
            "cells": {
             "fill": {
              "color": "#EBF0F8"
             },
             "line": {
              "color": "white"
             }
            },
            "header": {
             "fill": {
              "color": "#C8D4E3"
             },
             "line": {
              "color": "white"
             }
            },
            "type": "table"
           }
          ]
         },
         "layout": {
          "annotationdefaults": {
           "arrowcolor": "#2a3f5f",
           "arrowhead": 0,
           "arrowwidth": 1
          },
          "autotypenumbers": "strict",
          "coloraxis": {
           "colorbar": {
            "outlinewidth": 0,
            "ticks": ""
           }
          },
          "colorscale": {
           "diverging": [
            [
             0,
             "#8e0152"
            ],
            [
             0.1,
             "#c51b7d"
            ],
            [
             0.2,
             "#de77ae"
            ],
            [
             0.3,
             "#f1b6da"
            ],
            [
             0.4,
             "#fde0ef"
            ],
            [
             0.5,
             "#f7f7f7"
            ],
            [
             0.6,
             "#e6f5d0"
            ],
            [
             0.7,
             "#b8e186"
            ],
            [
             0.8,
             "#7fbc41"
            ],
            [
             0.9,
             "#4d9221"
            ],
            [
             1,
             "#276419"
            ]
           ],
           "sequential": [
            [
             0,
             "#0d0887"
            ],
            [
             0.1111111111111111,
             "#46039f"
            ],
            [
             0.2222222222222222,
             "#7201a8"
            ],
            [
             0.3333333333333333,
             "#9c179e"
            ],
            [
             0.4444444444444444,
             "#bd3786"
            ],
            [
             0.5555555555555556,
             "#d8576b"
            ],
            [
             0.6666666666666666,
             "#ed7953"
            ],
            [
             0.7777777777777778,
             "#fb9f3a"
            ],
            [
             0.8888888888888888,
             "#fdca26"
            ],
            [
             1,
             "#f0f921"
            ]
           ],
           "sequentialminus": [
            [
             0,
             "#0d0887"
            ],
            [
             0.1111111111111111,
             "#46039f"
            ],
            [
             0.2222222222222222,
             "#7201a8"
            ],
            [
             0.3333333333333333,
             "#9c179e"
            ],
            [
             0.4444444444444444,
             "#bd3786"
            ],
            [
             0.5555555555555556,
             "#d8576b"
            ],
            [
             0.6666666666666666,
             "#ed7953"
            ],
            [
             0.7777777777777778,
             "#fb9f3a"
            ],
            [
             0.8888888888888888,
             "#fdca26"
            ],
            [
             1,
             "#f0f921"
            ]
           ]
          },
          "colorway": [
           "#636efa",
           "#EF553B",
           "#00cc96",
           "#ab63fa",
           "#FFA15A",
           "#19d3f3",
           "#FF6692",
           "#B6E880",
           "#FF97FF",
           "#FECB52"
          ],
          "font": {
           "color": "#2a3f5f"
          },
          "geo": {
           "bgcolor": "white",
           "lakecolor": "white",
           "landcolor": "#E5ECF6",
           "showlakes": true,
           "showland": true,
           "subunitcolor": "white"
          },
          "hoverlabel": {
           "align": "left"
          },
          "hovermode": "closest",
          "mapbox": {
           "style": "light"
          },
          "paper_bgcolor": "white",
          "plot_bgcolor": "#E5ECF6",
          "polar": {
           "angularaxis": {
            "gridcolor": "white",
            "linecolor": "white",
            "ticks": ""
           },
           "bgcolor": "#E5ECF6",
           "radialaxis": {
            "gridcolor": "white",
            "linecolor": "white",
            "ticks": ""
           }
          },
          "scene": {
           "xaxis": {
            "backgroundcolor": "#E5ECF6",
            "gridcolor": "white",
            "gridwidth": 2,
            "linecolor": "white",
            "showbackground": true,
            "ticks": "",
            "zerolinecolor": "white"
           },
           "yaxis": {
            "backgroundcolor": "#E5ECF6",
            "gridcolor": "white",
            "gridwidth": 2,
            "linecolor": "white",
            "showbackground": true,
            "ticks": "",
            "zerolinecolor": "white"
           },
           "zaxis": {
            "backgroundcolor": "#E5ECF6",
            "gridcolor": "white",
            "gridwidth": 2,
            "linecolor": "white",
            "showbackground": true,
            "ticks": "",
            "zerolinecolor": "white"
           }
          },
          "shapedefaults": {
           "line": {
            "color": "#2a3f5f"
           }
          },
          "ternary": {
           "aaxis": {
            "gridcolor": "white",
            "linecolor": "white",
            "ticks": ""
           },
           "baxis": {
            "gridcolor": "white",
            "linecolor": "white",
            "ticks": ""
           },
           "bgcolor": "#E5ECF6",
           "caxis": {
            "gridcolor": "white",
            "linecolor": "white",
            "ticks": ""
           }
          },
          "title": {
           "x": 0.05
          },
          "xaxis": {
           "automargin": true,
           "gridcolor": "white",
           "linecolor": "white",
           "ticks": "",
           "title": {
            "standoff": 15
           },
           "zerolinecolor": "white",
           "zerolinewidth": 2
          },
          "yaxis": {
           "automargin": true,
           "gridcolor": "white",
           "linecolor": "white",
           "ticks": "",
           "title": {
            "standoff": 15
           },
           "zerolinecolor": "white",
           "zerolinewidth": 2
          }
         }
        }
       }
      }
     },
     "metadata": {},
     "output_type": "display_data"
    }
   ],
   "source": [
    "import plotly.express as px\n",
    "\n",
    "fig = px.scatter_geo(clustered_means,\n",
    "                     lat='latitude',\n",
    "                     lon='longitude',\n",
    "                     color='cluster',)\n",
    "\n",
    "fig.show()"
   ]
  }
 ],
 "metadata": {
  "kernelspec": {
   "display_name": "Python 3",
   "language": "python",
   "name": "python3"
  },
  "language_info": {
   "codemirror_mode": {
    "name": "ipython",
    "version": 3
   },
   "file_extension": ".py",
   "mimetype": "text/x-python",
   "name": "python",
   "nbconvert_exporter": "python",
   "pygments_lexer": "ipython3",
   "version": "3.12.3"
  }
 },
 "nbformat": 4,
 "nbformat_minor": 2
}
